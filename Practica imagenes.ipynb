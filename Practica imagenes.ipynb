{
 "cells": [
  {
   "cell_type": "markdown",
   "id": "b69ddf10-3b58-47cc-b752-5b1aec1d3668",
   "metadata": {},
   "source": [
    "<h1 style = \"text-align:center; front-size: 36px\"> Programación Concurrente y Distribuida </h1>\n",
    "<a href=\"https://github.com/sfms97\">\n",
    "    <img src=\"photo.jpg\" title = \"Samuel Fernando Méndez Saldías 22033190\" alt=\"Samuel Fernando Méndez Saldías 22033190\" width=\"100\" height=\"100\" style=\"float:left;vertical-align:centre\">\n",
    "    <img src=\"logo.png\" title = \"M21\" alt=\"UE\" width=\"105\" height=\"105\" style=\"float:right;vertical-align:centre\">"
   ]
  },
  {
   "cell_type": "code",
   "execution_count": 32,
   "id": "b46dfc65-e9c8-4e07-baad-5490a7944668",
   "metadata": {},
   "outputs": [],
   "source": [
    "import threading as th"
   ]
  },
  {
   "cell_type": "code",
   "execution_count": 4,
   "id": "8f24f874-e083-4822-8be4-ea663a5652b4",
   "metadata": {},
   "outputs": [],
   "source": [
    "a = 'https://storage.googleapis.com/christian_vladimir_sucuzhanay_bucket/pictures_videos/pic00'+str(1)+'.jpeg'"
   ]
  },
  {
   "cell_type": "code",
   "execution_count": 28,
   "id": "448994ab-4adc-442a-ac83-fe8def8de96f",
   "metadata": {},
   "outputs": [],
   "source": [
    "array_recorre = []"
   ]
  },
  {
   "cell_type": "code",
   "execution_count": 29,
   "id": "68293ec9-5c78-4cc0-908c-4e6b1ea597be",
   "metadata": {},
   "outputs": [
    {
     "name": "stdout",
     "output_type": "stream",
     "text": [
      "https://storage.googleapis.com/christian_vladimir_sucuzhanay_bucket/pictures_videos/pic001.jpeg\n",
      "https://storage.googleapis.com/christian_vladimir_sucuzhanay_bucket/pictures_videos/pic002.jpeg\n",
      "https://storage.googleapis.com/christian_vladimir_sucuzhanay_bucket/pictures_videos/pic003.jpeg\n",
      "https://storage.googleapis.com/christian_vladimir_sucuzhanay_bucket/pictures_videos/pic004.jpeg\n",
      "https://storage.googleapis.com/christian_vladimir_sucuzhanay_bucket/pictures_videos/pic005.jpeg\n",
      "https://storage.googleapis.com/christian_vladimir_sucuzhanay_bucket/pictures_videos/pic006.jpeg\n",
      "https://storage.googleapis.com/christian_vladimir_sucuzhanay_bucket/pictures_videos/pic007.jpeg\n",
      "https://storage.googleapis.com/christian_vladimir_sucuzhanay_bucket/pictures_videos/pic008.jpeg\n",
      "https://storage.googleapis.com/christian_vladimir_sucuzhanay_bucket/pictures_videos/pic009.jpeg\n"
     ]
    }
   ],
   "source": [
    "for i in range(1,10):\n",
    "    a = 'https://storage.googleapis.com/christian_vladimir_sucuzhanay_bucket/pictures_videos/pic00'+str(i)+'.jpeg'\n",
    "    print (a)\n",
    "    array_recorre.append(a)"
   ]
  },
  {
   "cell_type": "code",
   "execution_count": 31,
   "id": "1cf2338d-f259-4ceb-b742-895ec03eb006",
   "metadata": {},
   "outputs": [
    {
     "name": "stdout",
     "output_type": "stream",
     "text": [
      "https://storage.googleapis.com/christian_vladimir_sucuzhanay_bucket/pictures_videos/pic001.jpeg\n",
      "https://storage.googleapis.com/christian_vladimir_sucuzhanay_bucket/pictures_videos/pic002.jpeg\n",
      "https://storage.googleapis.com/christian_vladimir_sucuzhanay_bucket/pictures_videos/pic003.jpeg\n",
      "https://storage.googleapis.com/christian_vladimir_sucuzhanay_bucket/pictures_videos/pic004.jpeg\n",
      "https://storage.googleapis.com/christian_vladimir_sucuzhanay_bucket/pictures_videos/pic005.jpeg\n",
      "https://storage.googleapis.com/christian_vladimir_sucuzhanay_bucket/pictures_videos/pic006.jpeg\n",
      "https://storage.googleapis.com/christian_vladimir_sucuzhanay_bucket/pictures_videos/pic007.jpeg\n",
      "https://storage.googleapis.com/christian_vladimir_sucuzhanay_bucket/pictures_videos/pic008.jpeg\n",
      "https://storage.googleapis.com/christian_vladimir_sucuzhanay_bucket/pictures_videos/pic009.jpeg\n"
     ]
    }
   ],
   "source": [
    "for i in array_recorre:\n",
    "    print (i)"
   ]
  },
  {
   "cell_type": "code",
   "execution_count": 33,
   "id": "38a14fdf-1805-42c2-8201-c5086df68148",
   "metadata": {},
   "outputs": [],
   "source": [
    "def ataque():\n",
    "    for i in array_recorre:\n",
    "        requests.get(a)\n",
    "        th.current_thread()"
   ]
  },
  {
   "cell_type": "code",
   "execution_count": 34,
   "id": "c5fc1a81-d220-4316-9fa0-180986aaf402",
   "metadata": {},
   "outputs": [],
   "source": [
    "num_ataques=10"
   ]
  },
  {
   "cell_type": "code",
   "execution_count": 35,
   "id": "22cce1e7-70b1-4819-83ca-5bd4da355679",
   "metadata": {
    "collapsed": true,
    "jupyter": {
     "outputs_hidden": true
    },
    "tags": []
   },
   "outputs": [
    {
     "name": "stderr",
     "output_type": "stream",
     "text": [
      "Exception in thread Thread-6:\n",
      "Traceback (most recent call last):\n",
      "  File \"C:\\Users\\feern\\anaconda3\\lib\\threading.py\", line 932, in _bootstrap_inner\n",
      "Exception in thread Thread-7:\n",
      "Traceback (most recent call last):\n",
      "  File \"C:\\Users\\feern\\anaconda3\\lib\\threading.py\", line 932, in _bootstrap_inner\n",
      "Exception in thread Thread-8:\n",
      "Traceback (most recent call last):\n",
      "  File \"C:\\Users\\feern\\anaconda3\\lib\\threading.py\", line 932, in _bootstrap_inner\n",
      "    self.run()\n",
      "  File \"C:\\Users\\feern\\anaconda3\\lib\\threading.py\", line 870, in run\n",
      "Exception in thread Thread-9:\n",
      "Traceback (most recent call last):\n",
      "  File \"C:\\Users\\feern\\anaconda3\\lib\\threading.py\", line 932, in _bootstrap_inner\n",
      "    self.run()\n",
      "  File \"C:\\Users\\feern\\anaconda3\\lib\\threading.py\", line 870, in run\n",
      "Exception in thread Thread-10:\n",
      "Traceback (most recent call last):\n",
      "  File \"C:\\Users\\feern\\anaconda3\\lib\\threading.py\", line 932, in _bootstrap_inner\n",
      "Exception in thread Thread-11:\n",
      "Traceback (most recent call last):\n",
      "  File \"C:\\Users\\feern\\anaconda3\\lib\\threading.py\", line 932, in _bootstrap_inner\n",
      "    Exception in thread Thread-12:\n",
      "Traceback (most recent call last):\n",
      "  File \"C:\\Users\\feern\\anaconda3\\lib\\threading.py\", line 932, in _bootstrap_inner\n",
      "self.run()\n",
      "  File \"C:\\Users\\feern\\anaconda3\\lib\\threading.py\", line 870, in run\n",
      "Exception in thread         Thread-13:\n",
      "Traceback (most recent call last):\n",
      "  File \"C:\\Users\\feern\\anaconda3\\lib\\threading.py\", line 932, in _bootstrap_inner\n",
      "self._target(*self._args, **self._kwargs)\n",
      "  File \"<ipython-input-33-54d31679fd54>\", line 3, in ataque\n",
      "Exception in thread Thread-14:\n",
      "Traceback (most recent call last):\n",
      "  File \"C:\\Users\\feern\\anaconda3\\lib\\threading.py\", line 932, in _bootstrap_inner\n",
      "self.run()\n",
      "  File \"C:\\Users\\feern\\anaconda3\\lib\\threading.py\", line 870, in run\n",
      "Exception in thread     Thread-15:\n",
      "Traceback (most recent call last):\n",
      "  File \"C:\\Users\\feern\\anaconda3\\lib\\threading.py\", line 932, in _bootstrap_inner\n",
      "self.run()\n",
      "  File \"C:\\Users\\feern\\anaconda3\\lib\\threading.py\", line 870, in run\n",
      "    self._target(*self._args, **self._kwargs)\n",
      "  File \"<ipython-input-33-54d31679fd54>\", line 3, in ataque\n",
      "                self.run()\n",
      "  File \"C:\\Users\\feern\\anaconda3\\lib\\threading.py\", line 870, in run\n",
      "self.run()\n",
      "  File \"C:\\Users\\feern\\anaconda3\\lib\\threading.py\", line 870, in run\n",
      "self._target(*self._args, **self._kwargs)\n",
      "  File \"<ipython-input-33-54d31679fd54>\", line 3, in ataque\n",
      "self.run()\n",
      "  File \"C:\\Users\\feern\\anaconda3\\lib\\threading.py\", line 870, in run\n",
      "    self._target(*self._args, **self._kwargs)\n",
      "  File \"<ipython-input-33-54d31679fd54>\", line 3, in ataque\n",
      "    self.run()\n",
      "  File \"C:\\Users\\feern\\anaconda3\\lib\\threading.py\", line 870, in run\n",
      "                self._target(*self._args, **self._kwargs)\n",
      "  File \"<ipython-input-33-54d31679fd54>\", line 3, in ataque\n",
      "self.run()\n",
      "  File \"C:\\Users\\feern\\anaconda3\\lib\\threading.py\", line 870, in run\n",
      "self._target(*self._args, **self._kwargs)\n",
      "  File \"<ipython-input-33-54d31679fd54>\", line 3, in ataque\n",
      "self._target(*self._args, **self._kwargs)\n",
      "  File \"<ipython-input-33-54d31679fd54>\", line 3, in ataque\n",
      "NameError: name 'requests' is not defined\n",
      "        self._target(*self._args, **self._kwargs)\n",
      "  File \"<ipython-input-33-54d31679fd54>\", line 3, in ataque\n",
      "self._target(*self._args, **self._kwargs)\n",
      "NameError    NameError  File \"<ipython-input-33-54d31679fd54>\", line 3, in ataque\n",
      "NameError: name 'requests' is not defined\n",
      "self._target(*self._args, **self._kwargs)\n",
      "  File \"<ipython-input-33-54d31679fd54>\", line 3, in ataque\n",
      ": name 'requests' is not defined\n",
      ": name 'requests' is not defined\n",
      "NameError: name 'requests' is not defined\n",
      "NameErrorNameError: name 'requests' is not defined\n",
      ": name 'requests' is not defined\n",
      "NameError: name 'requests' is not defined\n",
      "NameErrorNameError: name 'requests' is not defined\n",
      ": name 'requests' is not defined\n"
     ]
    }
   ],
   "source": [
    "for i in range (num_ataques):\n",
    "    th.Thread(target=ataque).start()"
   ]
  },
  {
   "cell_type": "code",
   "execution_count": null,
   "id": "42e562b9-b9f9-404d-9ec0-262faad639c2",
   "metadata": {},
   "outputs": [],
   "source": []
  }
 ],
 "metadata": {
  "kernelspec": {
   "display_name": "Python 3",
   "language": "python",
   "name": "python3"
  },
  "language_info": {
   "codemirror_mode": {
    "name": "ipython",
    "version": 3
   },
   "file_extension": ".py",
   "mimetype": "text/x-python",
   "name": "python",
   "nbconvert_exporter": "python",
   "pygments_lexer": "ipython3",
   "version": "3.8.8"
  }
 },
 "nbformat": 4,
 "nbformat_minor": 5
}
