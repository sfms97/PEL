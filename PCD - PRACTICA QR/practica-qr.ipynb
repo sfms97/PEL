{
 "cells": [
  {
   "cell_type": "markdown",
   "id": "1102c787-97be-497a-86aa-16c636f13ca2",
   "metadata": {},
   "source": [
    "<center> <font size=\"10\" color=\"#de3831\">\n",
    "    <b> PROYECTO FINAL </b>\n",
    "</font> </center>"
   ]
  },
  {
   "cell_type": "markdown",
   "id": "05d8a153-d704-405e-88ea-5733840f111a",
   "metadata": {},
   "source": [
    "<center> <font size=\"5\" color=\"white\"> Grupo 3 / Samuel Fernando Méndez Saldías 22033190 </font> </center>"
   ]
  },
  {
   "cell_type": "code",
   "execution_count": 3,
   "id": "df6f219c-2954-487e-b3d6-7dbba4f6953c",
   "metadata": {},
   "outputs": [
    {
     "name": "stdout",
     "output_type": "stream",
     "text": [
      "Collecting qrcode\n",
      "  Downloading qrcode-7.3.1.tar.gz (43 kB)\n",
      "Requirement already satisfied: colorama in c:\\users\\feern\\anaconda3\\lib\\site-packages (from qrcode) (0.4.4)\n",
      "Building wheels for collected packages: qrcode\n",
      "  Building wheel for qrcode (setup.py): started\n",
      "  Building wheel for qrcode (setup.py): finished with status 'done'\n",
      "  Created wheel for qrcode: filename=qrcode-7.3.1-py3-none-any.whl size=40385 sha256=0872a04b1da6b98e73219f8b57c2311638af2056d029d803db721a6cb158d80e\n",
      "  Stored in directory: c:\\users\\feern\\appdata\\local\\pip\\cache\\wheels\\35\\fd\\04\\2768886c56207acee0d6dc6b9bd5d06dac63a810f0c0a42516\n",
      "Successfully built qrcode\n",
      "Installing collected packages: qrcode\n",
      "Successfully installed qrcode-7.3.1\n",
      "Note: you may need to restart the kernel to use updated packages.\n"
     ]
    }
   ],
   "source": [
    "pip install qrcode\n"
   ]
  },
  {
   "cell_type": "code",
   "execution_count": 6,
   "id": "45552c71-d7a2-4623-af89-f495254cc855",
   "metadata": {},
   "outputs": [],
   "source": [
    "import qrcode as qr"
   ]
  },
  {
   "cell_type": "code",
   "execution_count": 10,
   "id": "18bcf1eb-9cc7-4eca-9b8a-32e12d4308e4",
   "metadata": {},
   "outputs": [],
   "source": [
    "git_samuel = qr.make(\"https://github.com/sfms97\")"
   ]
  },
  {
   "cell_type": "code",
   "execution_count": 11,
   "id": "cb85e954-c9fc-471a-9b47-5f7dfca2f31f",
   "metadata": {},
   "outputs": [],
   "source": [
    "git_samuel.save('github_22033190.png')"
   ]
  },
  {
   "cell_type": "code",
   "execution_count": 13,
   "id": "18cfc630-a6e9-4c5f-bc3f-78bd4e014914",
   "metadata": {},
   "outputs": [
    {
     "name": "stdout",
     "output_type": "stream",
     "text": [
      "Collecting opencv-python\n",
      "  Downloading opencv_python-4.5.4.60-cp38-cp38-win_amd64.whl (35.1 MB)\n",
      "Requirement already satisfied: numpy>=1.17.3 in c:\\users\\feern\\anaconda3\\lib\\site-packages (from opencv-python) (1.20.1)\n",
      "Installing collected packages: opencv-python\n",
      "Successfully installed opencv-python-4.5.4.60\n",
      "Note: you may need to restart the kernel to use updated packages.\n"
     ]
    }
   ],
   "source": [
    "pip install opencv-python"
   ]
  },
  {
   "cell_type": "code",
   "execution_count": 14,
   "id": "be93cc39-c5b7-4fca-8059-2bae53deea59",
   "metadata": {},
   "outputs": [],
   "source": [
    "import cv2"
   ]
  },
  {
   "cell_type": "code",
   "execution_count": 16,
   "id": "f235a000-af77-4478-a815-ccfd4e9e00b2",
   "metadata": {},
   "outputs": [],
   "source": [
    "qr_img=cv2.imread('github_22033190.png')"
   ]
  },
  {
   "cell_type": "code",
   "execution_count": 17,
   "id": "0af983ee-6a06-4f9b-ac0b-fc84b80e43c4",
   "metadata": {},
   "outputs": [
    {
     "data": {
      "text/plain": [
       "numpy.ndarray"
      ]
     },
     "execution_count": 17,
     "metadata": {},
     "output_type": "execute_result"
    }
   ],
   "source": [
    "type(qr_img)"
   ]
  },
  {
   "cell_type": "code",
   "execution_count": 18,
   "id": "a5d1ad92-7407-4a2c-afde-b49c4b1e3857",
   "metadata": {},
   "outputs": [],
   "source": [
    "detector = cv2.QRCodeDetector()"
   ]
  },
  {
   "cell_type": "code",
   "execution_count": 21,
   "id": "2071921f-d11e-41bc-bff4-f8c8ca136059",
   "metadata": {},
   "outputs": [],
   "source": [
    "text, matrix, val = detector.detectAndDecode(qr_img)"
   ]
  },
  {
   "cell_type": "code",
   "execution_count": 22,
   "id": "4597e83c-ff48-449a-a084-f557ac2a7f48",
   "metadata": {},
   "outputs": [
    {
     "data": {
      "text/plain": [
       "'https://github.com/sfms97'"
      ]
     },
     "execution_count": 22,
     "metadata": {},
     "output_type": "execute_result"
    }
   ],
   "source": [
    "text"
   ]
  },
  {
   "cell_type": "code",
   "execution_count": 24,
   "id": "aa111c1a-5448-410c-82b7-244d52089239",
   "metadata": {},
   "outputs": [
    {
     "data": {
      "text/plain": [
       "array([[[ 40.     ,  40.     ],\n",
       "        [288.99997,  40.     ],\n",
       "        [288.99997, 288.99997],\n",
       "        [ 40.     , 288.99997]]], dtype=float32)"
      ]
     },
     "execution_count": 24,
     "metadata": {},
     "output_type": "execute_result"
    }
   ],
   "source": [
    "matrix"
   ]
  },
  {
   "cell_type": "code",
   "execution_count": 35,
   "id": "70d58295-d092-4456-802b-bb5126870e31",
   "metadata": {},
   "outputs": [],
   "source": [
    "pasaporte_cristian = cv2.imread(\"pasaporte_christian.png\")"
   ]
  },
  {
   "cell_type": "code",
   "execution_count": 36,
   "id": "bd2bae0d-dcd0-42e8-9e3c-802964fb4c80",
   "metadata": {},
   "outputs": [],
   "source": [
    "text2, matrix2, val2 = detector.detectAndDecode(pasaporte_cristian)"
   ]
  },
  {
   "cell_type": "code",
   "execution_count": 37,
   "id": "24a6a454-c4a1-4396-9514-f12cbb96c781",
   "metadata": {},
   "outputs": [
    {
     "data": {
      "text/plain": [
       "'HC1:NCFOXN%TSMAHN-HXOCLGML-P8ZVHGJ-AH:TA1ROT$SD PL*IS2VF%GKG5/*E*71F/8X*G3M9JUPY0BZW4V/AY73CNN7J3J1H:43DAJBRNFG3CNBRI3CHG7KM0KLGJJ5C9-JE%7A6IA*$36IASD9YHILIIX2MELNKHKYIARGEX3E1.BLEE$JDM:C5H8QNL1FE1.B7I9 H9/.DV2MGDIR0MTDQVOCIL8-TIK*R3T3+7A.N88J4R$FBMA2 U6QS25P0QIRR97I2HOAAP9UY9VYCDEBD0HX2JR$4O1K8KES/F-1JZ.KELNZEG%12/9TL4T.B9 UP9C1-ZEN.HQCEFREGUA P1NV1K/U31AP8Q0OE+51QN1RNU.*U-51JFEKQU2:UWH9 UPRB8LTD1$AZWJYQ2%VLUHGG%5TW5A 6+O67N6F7E46WW%9Z4EM2PKAWMO9T.3NB1E7R0%K06N0%8/YM.QPMSD9IM28K/NS /K%TTVP5TPTT$CKTMS MKCHK+RO2W58ECQ568HX%A+YP8MAKL62QG'"
      ]
     },
     "execution_count": 37,
     "metadata": {},
     "output_type": "execute_result"
    }
   ],
   "source": [
    "text2"
   ]
  },
  {
   "cell_type": "code",
   "execution_count": 38,
   "id": "704c4071-e04e-4673-97f0-8b894c970912",
   "metadata": {},
   "outputs": [
    {
     "data": {
      "text/plain": [
       "array([[  0,   0,   0, ...,   0,   0,   0],\n",
       "       [  0, 255, 255, ..., 255, 255,   0],\n",
       "       [  0, 255,   0, ...,   0, 255,   0],\n",
       "       ...,\n",
       "       [  0, 255,   0, ...,   0, 255, 255],\n",
       "       [  0, 255, 255, ...,   0,   0,   0],\n",
       "       [  0,   0,   0, ...,   0,   0, 255]], dtype=uint8)"
      ]
     },
     "execution_count": 38,
     "metadata": {},
     "output_type": "execute_result"
    }
   ],
   "source": [
    "val2"
   ]
  },
  {
   "cell_type": "code",
   "execution_count": 39,
   "id": "481de266-7424-4ddd-a53f-e0650400943c",
   "metadata": {},
   "outputs": [
    {
     "data": {
      "text/plain": [
       "array([[[  9.,   9.],\n",
       "        [785.,   9.],\n",
       "        [785., 787.],\n",
       "        [  9., 787.]]], dtype=float32)"
      ]
     },
     "execution_count": 39,
     "metadata": {},
     "output_type": "execute_result"
    }
   ],
   "source": [
    "matrix2"
   ]
  },
  {
   "cell_type": "code",
   "execution_count": null,
   "id": "82531a95-f398-4830-af7c-1ed43094ff13",
   "metadata": {},
   "outputs": [],
   "source": []
  }
 ],
 "metadata": {
  "kernelspec": {
   "display_name": "Python 3",
   "language": "python",
   "name": "python3"
  },
  "language_info": {
   "codemirror_mode": {
    "name": "ipython",
    "version": 3
   },
   "file_extension": ".py",
   "mimetype": "text/x-python",
   "name": "python",
   "nbconvert_exporter": "python",
   "pygments_lexer": "ipython3",
   "version": "3.8.8"
  }
 },
 "nbformat": 4,
 "nbformat_minor": 5
}
