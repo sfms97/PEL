{
 "cells": [
  {
   "cell_type": "markdown",
   "id": "da8f13ff-3e3f-4952-b87c-52235842ca56",
   "metadata": {},
   "source": [
    "<h1 style = \"text-align:center; front-size: 36px\"> Programación Concurrente y Distribuida </h1>\n",
    "<a href=\"https://github.com/sfms97\">\n",
    "    <img src=\"photo.jpg\" title = \"Samuel Fernando Méndez Saldías 22033190\" alt=\"Samuel Fernando Méndez Saldías 22033190\" width=\"100\" height=\"100\" style=\"float:left;vertical-align:centre\">\n",
    "    <img src=\"logo.png\" title = \"M21\" alt=\"UE\" width=\"105\" height=\"105\" style=\"float:right;vertical-align:centre\">"
   ]
  },
  {
   "cell_type": "markdown",
   "id": "671dfb0c-9bc9-4527-a313-58041bbc86c4",
   "metadata": {},
   "source": [
    "# Sockets"
   ]
  },
  {
   "cell_type": "code",
   "execution_count": 31,
   "id": "8fbce15e-b37d-47aa-8d33-c1f4ced9e266",
   "metadata": {},
   "outputs": [],
   "source": [
    "import socket as sc\n",
    "import sys\n",
    "import os"
   ]
  },
  {
   "cell_type": "code",
   "execution_count": 33,
   "id": "0b013d23-522c-41a0-9c2e-fec9bea895d6",
   "metadata": {},
   "outputs": [],
   "source": [
    "self = sc.gethostname()\n"
   ]
  },
  {
   "cell_type": "code",
   "execution_count": null,
   "id": "812bd912-36a4-4ea1-9ed5-ce68ec007883",
   "metadata": {},
   "outputs": [],
   "source": []
  },
  {
   "cell_type": "code",
   "execution_count": 6,
   "id": "217875e8-8a48-4d88-aa33-1ee0f8fd9e1d",
   "metadata": {},
   "outputs": [
    {
     "name": "stdout",
     "output_type": "stream",
     "text": [
      "DESKTOP-RTF96C4\n"
     ]
    }
   ],
   "source": [
    "print (self)"
   ]
  },
  {
   "cell_type": "code",
   "execution_count": 21,
   "id": "377beeeb-850a-4051-acf3-7e29e1e87ae8",
   "metadata": {},
   "outputs": [],
   "source": [
    "selfie =  sc.socket()"
   ]
  },
  {
   "cell_type": "code",
   "execution_count": 26,
   "id": "fd064f8d-b23e-44bc-a1ed-d4cfacb3627a",
   "metadata": {},
   "outputs": [],
   "source": [
    "test = selfie.getsockname"
   ]
  },
  {
   "cell_type": "code",
   "execution_count": 29,
   "id": "7ea68fa7-a3aa-4082-88a7-95f6c010488e",
   "metadata": {},
   "outputs": [
    {
     "data": {
      "text/plain": [
       "<function socket.getsockname>"
      ]
     },
     "execution_count": 29,
     "metadata": {},
     "output_type": "execute_result"
    }
   ],
   "source": [
    "test"
   ]
  },
  {
   "cell_type": "code",
   "execution_count": 32,
   "id": "658be996-004e-47ca-b650-6b39418587b0",
   "metadata": {},
   "outputs": [
    {
     "ename": "OSError",
     "evalue": "[WinError 10013] Intento de acceso a un socket no permitido por sus permisos de acceso",
     "output_type": "error",
     "traceback": [
      "\u001b[1;31m---------------------------------------------------------------------------\u001b[0m",
      "\u001b[1;31mOSError\u001b[0m                                   Traceback (most recent call last)",
      "\u001b[1;32m<ipython-input-32-440736b011e6>\u001b[0m in \u001b[0;36m<module>\u001b[1;34m\u001b[0m\n\u001b[1;32m----> 1\u001b[1;33m connection = sc.socket(socket.AF_INET, socket.SOCK_RAW, \n\u001b[0m\u001b[0;32m      2\u001b[0m     socket.IPPROTO_IP)\n",
      "\u001b[1;32m~\\anaconda3\\lib\\socket.py\u001b[0m in \u001b[0;36m__init__\u001b[1;34m(self, family, type, proto, fileno)\u001b[0m\n\u001b[0;32m    229\u001b[0m             \u001b[1;32mif\u001b[0m \u001b[0mproto\u001b[0m \u001b[1;33m==\u001b[0m \u001b[1;33m-\u001b[0m\u001b[1;36m1\u001b[0m\u001b[1;33m:\u001b[0m\u001b[1;33m\u001b[0m\u001b[1;33m\u001b[0m\u001b[0m\n\u001b[0;32m    230\u001b[0m                 \u001b[0mproto\u001b[0m \u001b[1;33m=\u001b[0m \u001b[1;36m0\u001b[0m\u001b[1;33m\u001b[0m\u001b[1;33m\u001b[0m\u001b[0m\n\u001b[1;32m--> 231\u001b[1;33m         \u001b[0m_socket\u001b[0m\u001b[1;33m.\u001b[0m\u001b[0msocket\u001b[0m\u001b[1;33m.\u001b[0m\u001b[0m__init__\u001b[0m\u001b[1;33m(\u001b[0m\u001b[0mself\u001b[0m\u001b[1;33m,\u001b[0m \u001b[0mfamily\u001b[0m\u001b[1;33m,\u001b[0m \u001b[0mtype\u001b[0m\u001b[1;33m,\u001b[0m \u001b[0mproto\u001b[0m\u001b[1;33m,\u001b[0m \u001b[0mfileno\u001b[0m\u001b[1;33m)\u001b[0m\u001b[1;33m\u001b[0m\u001b[1;33m\u001b[0m\u001b[0m\n\u001b[0m\u001b[0;32m    232\u001b[0m         \u001b[0mself\u001b[0m\u001b[1;33m.\u001b[0m\u001b[0m_io_refs\u001b[0m \u001b[1;33m=\u001b[0m \u001b[1;36m0\u001b[0m\u001b[1;33m\u001b[0m\u001b[1;33m\u001b[0m\u001b[0m\n\u001b[0;32m    233\u001b[0m         \u001b[0mself\u001b[0m\u001b[1;33m.\u001b[0m\u001b[0m_closed\u001b[0m \u001b[1;33m=\u001b[0m \u001b[1;32mFalse\u001b[0m\u001b[1;33m\u001b[0m\u001b[1;33m\u001b[0m\u001b[0m\n",
      "\u001b[1;31mOSError\u001b[0m: [WinError 10013] Intento de acceso a un socket no permitido por sus permisos de acceso"
     ]
    }
   ],
   "source": []
  },
  {
   "cell_type": "code",
   "execution_count": null,
   "id": "f85a8511-e95e-466e-9cd1-b94b479d0ca0",
   "metadata": {},
   "outputs": [],
   "source": []
  }
 ],
 "metadata": {
  "kernelspec": {
   "display_name": "Python 3",
   "language": "python",
   "name": "python3"
  },
  "language_info": {
   "codemirror_mode": {
    "name": "ipython",
    "version": 3
   },
   "file_extension": ".py",
   "mimetype": "text/x-python",
   "name": "python",
   "nbconvert_exporter": "python",
   "pygments_lexer": "ipython3",
   "version": "3.8.8"
  }
 },
 "nbformat": 4,
 "nbformat_minor": 5
}
