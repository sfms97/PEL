{
 "cells": [
  {
   "cell_type": "markdown",
   "id": "c001f905-be4a-4986-9c06-8faaffdbe5e4",
   "metadata": {},
   "source": [
    "<h1 style = \"text-align:center; front-size: 36px\"> Programación Concurrente y Distribuida - AI1 </h1>\n",
    "<a href=\"https://github.com/sfms97\">\n",
    "    <img src=\"photo.jpg\" title = \"Samuel Fernando Méndez Saldías 22033190\" alt=\"Samuel Fernando Méndez Saldías 22033190\" width=\"100\" height=\"100\" style=\"float:left;vertical-align:centre\">\n",
    "    <img src=\"logo.png\" title = \"M21\" alt=\"UE\" width=\"105\" height=\"105\" style=\"float:right;vertical-align:centre\">"
   ]
  },
  {
   "cell_type": "markdown",
   "id": "c7b09758-4526-4ca9-bcc1-2a172e95de49",
   "metadata": {},
   "source": [
    "## Objetivos del proyecto\n",
    " - Conocer los problemas que genera la concurrencia.\n",
    "    \n",
    " - Aplicar las posibles soluciones a estos problemas y los mecanismos que se utilizan para resolverlos mediante el uso de hilos.\n",
    " \n",
    " - Permitir mediante un servidor la conexión e intercambio de mensajes entre 2 usuarios\n",
    " "
   ]
  },
  {
   "cell_type": "markdown",
   "id": "65d89cec-a7a8-4b68-bc25-a64ea03d8b0c",
   "metadata": {},
   "source": [
    "## Código subido con el comando git push a github\n",
    "\n",
    "https://github.com/sfms97"
   ]
  },
  {
   "cell_type": "code",
   "execution_count": null,
   "id": "06628af9-47fa-4766-82a6-9b09a17527ec",
   "metadata": {},
   "outputs": [],
   "source": []
  }
 ],
 "metadata": {
  "kernelspec": {
   "display_name": "Python 3",
   "language": "python",
   "name": "python3"
  },
  "language_info": {
   "codemirror_mode": {
    "name": "ipython",
    "version": 3
   },
   "file_extension": ".py",
   "mimetype": "text/x-python",
   "name": "python",
   "nbconvert_exporter": "python",
   "pygments_lexer": "ipython3",
   "version": "3.8.8"
  }
 },
 "nbformat": 4,
 "nbformat_minor": 5
}
